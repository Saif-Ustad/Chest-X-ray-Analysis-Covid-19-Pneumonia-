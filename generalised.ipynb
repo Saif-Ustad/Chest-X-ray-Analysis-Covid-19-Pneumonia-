{
 "cells": [
  {
   "cell_type": "markdown",
   "metadata": {},
   "source": [
    "# Detection of COVID-19"
   ]
  },
  {
   "cell_type": "markdown",
   "metadata": {},
   "source": [
    "### Importing Libraries"
   ]
  },
  {
   "cell_type": "code",
   "execution_count": 1,
   "metadata": {},
   "outputs": [],
   "source": [
    "from imutils import paths\n",
    "import matplotlib.pyplot as plt\n",
    "import numpy as np\n",
    "import argparse\n",
    "import cv2\n",
    "import os\n",
    "import time\n",
    "import tensorflow as tf\n",
    "import seaborn as sns\n",
    "\n",
    "import keras\n",
    "from sklearn.model_selection import train_test_split\n",
    "from keras.applications import VGG16\n",
    "from keras.layers import  Flatten, Dense, Activation\n",
    "from keras.models import Sequential, load_model\n",
    "from keras.optimizers import Adam\n",
    "from keras.callbacks import ModelCheckpoint, EarlyStopping, ReduceLROnPlateau\n",
    "from keras.utils import to_categorical\n",
    "from sklearn.datasets import load_files\n",
    "from sklearn.preprocessing import LabelBinarizer\n",
    "from sklearn.metrics import classification_report, confusion_matrix"
   ]
  },
  {
   "cell_type": "code",
   "execution_count": 3,
   "metadata": {},
   "outputs": [],
   "source": [
    "import os \n",
    "import cv2\n",
    "\n",
    "folder1 = \"Data/train/COVID19/\"\n",
    "folder2 = \"Data/train/NORMAL/\"\n",
    "folder3 = \"Data/train/PNEUMONIA/\"\n",
    "\n",
    "def load_images_from_folder(folder, num):\n",
    "    images = []\n",
    "    y = []\n",
    "    for filename in os.listdir(folder):\n",
    "        img = cv2.imread(os.path.join(folder,filename));\n",
    "        img = tf.keras.preprocessing.image.img_to_array(img)\n",
    "        img = cv2.resize(img,(128,128))\n",
    "        if img is not None:\n",
    "            images.append(img)\n",
    "            y.append(num)\n",
    "    return images , y\n",
    "\n",
    "OriginalCovidImages, class1 = load_images_from_folder(folder1,0)\n",
    "OriginalNormalImages, class3 = load_images_from_folder(folder2,2)\n",
    "OriginalViralPneumoniaImages, class2 = load_images_from_folder(folder3,1)\n"
   ]
  },
  {
   "cell_type": "code",
   "execution_count": 4,
   "metadata": {},
   "outputs": [],
   "source": [
    "def reshapeimages(images, y):\n",
    "    images = np.array(images)\n",
    "    y = np.array(y).reshape(-1,1)\n",
    "    return images, y"
   ]
  },
  {
   "cell_type": "markdown",
   "metadata": {},
   "source": [
    "### Reshaping the images into numpy array"
   ]
  },
  {
   "cell_type": "code",
   "execution_count": 5,
   "metadata": {},
   "outputs": [
    {
     "name": "stdout",
     "output_type": "stream",
     "text": [
      "460\n",
      "(460, 128, 128, 3)\n",
      "(460, 1)\n"
     ]
    }
   ],
   "source": [
    "OriginalCovidImages, class1 = reshapeimages(OriginalCovidImages,class1)\n",
    "OriginalViralPneumoniaImages, class2 = reshapeimages(OriginalViralPneumoniaImages,class2)\n",
    "OriginalNormalImages, class3 = reshapeimages(OriginalNormalImages,class3)\n",
    "\n",
    "print(len(OriginalCovidImages))\n",
    "print(OriginalCovidImages.shape)\n",
    "print(class1.shape)"
   ]
  },
  {
   "cell_type": "markdown",
   "metadata": {},
   "source": [
    "#### Splitting the covid test data into train/validation/test"
   ]
  },
  {
   "cell_type": "code",
   "execution_count": 6,
   "metadata": {},
   "outputs": [
    {
     "name": "stdout",
     "output_type": "stream",
     "text": [
      "(414, 128, 128, 3)\n",
      "(10, 128, 128, 3)\n",
      "(36, 128, 128, 3)\n"
     ]
    }
   ],
   "source": [
    "Covid_train, Covid_test, class1_train, class1_test = train_test_split(OriginalCovidImages,class1, test_size=0.1, random_state=42)\n",
    "Covid_test, Covid_val, class1_test, class1_val = train_test_split(Covid_test, class1_test, test_size=0.2, random_state=42)\n",
    "print(Covid_train.shape)\n",
    "print(Covid_val.shape)\n",
    "print(Covid_test.shape)"
   ]
  },
  {
   "cell_type": "markdown",
   "metadata": {},
   "source": [
    "#### Splitting the Viral Pneumonia Data into Train/Validation/Test"
   ]
  },
  {
   "cell_type": "code",
   "execution_count": 7,
   "metadata": {},
   "outputs": [
    {
     "name": "stdout",
     "output_type": "stream",
     "text": [
      "(3076, 128, 128, 3)\n",
      "(69, 128, 128, 3)\n",
      "(273, 128, 128, 3)\n"
     ]
    }
   ],
   "source": [
    "ViralP_train, ViralP_test, class2_train, class2_test = train_test_split(OriginalViralPneumoniaImages,class2, test_size=0.1, random_state=42)\n",
    "ViralP_test, ViralP_val, class2_test, class2_val = train_test_split(ViralP_test, class2_test, test_size=0.2, random_state=42)\n",
    "print(ViralP_train.shape)\n",
    "print(ViralP_val.shape)\n",
    "print(ViralP_test.shape)"
   ]
  },
  {
   "cell_type": "markdown",
   "metadata": {},
   "source": [
    "#### Splitting the Normal Data into Train/Validation/Test"
   ]
  },
  {
   "cell_type": "code",
   "execution_count": 8,
   "metadata": {},
   "outputs": [
    {
     "name": "stdout",
     "output_type": "stream",
     "text": [
      "(1139, 128, 128, 3)\n",
      "(26, 128, 128, 3)\n",
      "(101, 128, 128, 3)\n"
     ]
    }
   ],
   "source": [
    "Normal_train, Normal_test, class3_train, class3_test = train_test_split(OriginalNormalImages,class3, test_size=0.1, random_state=42)\n",
    "Normal_test, Normal_val, class3_test, class3_val = train_test_split(Normal_test, class3_test, test_size=0.2, random_state=42)\n",
    "print(Normal_train.shape)\n",
    "print(Normal_val.shape)\n",
    "print(Normal_test.shape)"
   ]
  },
  {
   "cell_type": "markdown",
   "metadata": {},
   "source": [
    "## Final Train Test Validation set"
   ]
  },
  {
   "cell_type": "code",
   "execution_count": 9,
   "metadata": {},
   "outputs": [],
   "source": [
    "X_train = np.concatenate((Covid_train, ViralP_train, Normal_train), axis=0) \n",
    "y_train = np.concatenate((class1_train, class2_train, class3_train), axis=0) \n",
    "X_test = np.concatenate((Covid_test, ViralP_test, Normal_test), axis=0) \n",
    "y_test = np.concatenate((class1_test, class2_test, class3_test), axis=0) \n",
    "X_val = np.concatenate((Covid_val, ViralP_val, Normal_val), axis=0) \n",
    "y_val = np.concatenate((class1_val, class2_val, class3_val), axis=0) \n"
   ]
  },
  {
   "cell_type": "code",
   "execution_count": 12,
   "metadata": {},
   "outputs": [
    {
     "name": "stdout",
     "output_type": "stream",
     "text": [
      "(4629, 128, 128, 3)\n",
      "\n"
     ]
    },
    {
     "ename": "IndexError",
     "evalue": "index 12300 is out of bounds for axis 0 with size 4629",
     "output_type": "error",
     "traceback": [
      "\u001b[1;31m---------------------------------------------------------------------------\u001b[0m",
      "\u001b[1;31mIndexError\u001b[0m                                Traceback (most recent call last)",
      "Cell \u001b[1;32mIn[12], line 4\u001b[0m\n\u001b[0;32m      2\u001b[0m \u001b[38;5;28mprint\u001b[39m()\n\u001b[0;32m      3\u001b[0m plt\u001b[38;5;241m.\u001b[39mfigure()\n\u001b[1;32m----> 4\u001b[0m plt\u001b[38;5;241m.\u001b[39mimshow(\u001b[43mX_train\u001b[49m\u001b[43m[\u001b[49m\u001b[38;5;241;43m12300\u001b[39;49m\u001b[43m]\u001b[49m)\n\u001b[0;32m      5\u001b[0m plt\u001b[38;5;241m.\u001b[39mcolorbar()\n\u001b[0;32m      6\u001b[0m plt\u001b[38;5;241m.\u001b[39mgrid(\u001b[38;5;28;01mFalse\u001b[39;00m)\n",
      "\u001b[1;31mIndexError\u001b[0m: index 12300 is out of bounds for axis 0 with size 4629"
     ]
    },
    {
     "data": {
      "text/plain": [
       "<Figure size 640x480 with 0 Axes>"
      ]
     },
     "metadata": {},
     "output_type": "display_data"
    }
   ],
   "source": [
    "# print(X_train.shape)\n",
    "# print()\n",
    "# plt.figure()\n",
    "# plt.imshow(X_train[4620])\n",
    "# plt.colorbar()\n",
    "# plt.grid(False)\n",
    "# plt.show\n",
    "# print(y_train[4620])"
   ]
  },
  {
   "cell_type": "code",
   "execution_count": 13,
   "metadata": {},
   "outputs": [],
   "source": [
    "X_train = X_train /255\n",
    "X_test_scaled = X_test / 255\n",
    "X_val = X_val/255"
   ]
  },
  {
   "cell_type": "code",
   "execution_count": 14,
   "metadata": {},
   "outputs": [
    {
     "name": "stdout",
     "output_type": "stream",
     "text": [
      "(4629, 128, 128, 3)\n",
      "[[[[0.1938419  0.1938419  0.1938419 ]\n",
      "   [0.1740196  0.1740196  0.1740196 ]\n",
      "   [0.18121937 0.18121937 0.18121937]\n",
      "   ...\n",
      "   [0.08950674 0.08950674 0.08950674]\n",
      "   [0.09134497 0.09134497 0.09134497]\n",
      "   [0.11372549 0.11372549 0.11372549]]\n",
      "\n",
      "  [[0.25465685 0.25465685 0.25465685]\n",
      "   [0.23872548 0.23872548 0.23872548]\n",
      "   [0.23529412 0.23529412 0.23529412]\n",
      "   ...\n",
      "   [0.10171568 0.10171568 0.10171568]\n",
      "   [0.10931373 0.10931373 0.10931373]\n",
      "   [0.11372549 0.11372549 0.11372549]]\n",
      "\n",
      "  [[0.28950673 0.28950673 0.28950673]\n",
      "   [0.27086398 0.27086398 0.27086398]\n",
      "   [0.273269   0.273269   0.273269  ]\n",
      "   ...\n",
      "   [0.22305453 0.22305453 0.22305453]\n",
      "   [0.18515626 0.18515626 0.18515626]\n",
      "   [0.16397059 0.16397059 0.16397059]]\n",
      "\n",
      "  ...\n",
      "\n",
      "  [[0.21470588 0.21470588 0.21470588]\n",
      "   [0.2509804  0.2509804  0.2509804 ]\n",
      "   [0.28111213 0.28111213 0.28111213]\n",
      "   ...\n",
      "   [0.37942708 0.37942708 0.37942708]\n",
      "   [0.37867647 0.37867647 0.37867647]\n",
      "   [0.38877144 0.38877144 0.38877144]]\n",
      "\n",
      "  [[0.25099573 0.25099573 0.25099573]\n",
      "   [0.2671722  0.2671722  0.2671722 ]\n",
      "   [0.3154412  0.3154412  0.3154412 ]\n",
      "   ...\n",
      "   [0.4111673  0.4111673  0.4111673 ]\n",
      "   [0.41178003 0.41178003 0.41178003]\n",
      "   [0.39511335 0.39511335 0.39511335]]\n",
      "\n",
      "  [[0.27140012 0.27140012 0.27140012]\n",
      "   [0.31550246 0.31550246 0.31550246]\n",
      "   [0.342693   0.342693   0.342693  ]\n",
      "   ...\n",
      "   [0.43440562 0.43440562 0.43440562]\n",
      "   [0.44649205 0.44649205 0.44649205]\n",
      "   [0.40405944 0.40405944 0.40405944]]]\n",
      "\n",
      "\n",
      " [[[0.01568628 0.01568628 0.01568628]\n",
      "   [0.00588235 0.00588235 0.00588235]\n",
      "   [0.09803922 0.09803922 0.09803922]\n",
      "   ...\n",
      "   [0.05882353 0.05882353 0.05882353]\n",
      "   [0.1392157  0.1392157  0.1392157 ]\n",
      "   [0.24901961 0.24901961 0.24901961]]\n",
      "\n",
      "  [[0.01568628 0.01568628 0.01568628]\n",
      "   [0.00784314 0.00784314 0.00784314]\n",
      "   [0.09117647 0.09117647 0.09117647]\n",
      "   ...\n",
      "   [0.11078431 0.11078431 0.11078431]\n",
      "   [0.16078432 0.16078432 0.16078432]\n",
      "   [0.2529412  0.2529412  0.2529412 ]]\n",
      "\n",
      "  [[0.01568628 0.01568628 0.01568628]\n",
      "   [0.00784314 0.00784314 0.00784314]\n",
      "   [0.08039216 0.08039216 0.08039216]\n",
      "   ...\n",
      "   [0.15490197 0.15490197 0.15490197]\n",
      "   [0.1764706  0.1764706  0.1764706 ]\n",
      "   [0.24705882 0.24705882 0.24705882]]\n",
      "\n",
      "  ...\n",
      "\n",
      "  [[0.02745098 0.02254902 0.02254902]\n",
      "   [0.0627451  0.05686275 0.05686275]\n",
      "   [0.09215686 0.08627451 0.08627451]\n",
      "   ...\n",
      "   [0.         0.         0.        ]\n",
      "   [0.         0.         0.        ]\n",
      "   [0.01176471 0.01176471 0.01176471]]\n",
      "\n",
      "  [[0.15392157 0.15294118 0.15294118]\n",
      "   [0.21764706 0.21568628 0.21568628]\n",
      "   [0.24901961 0.24705882 0.24705882]\n",
      "   ...\n",
      "   [0.1        0.1        0.1       ]\n",
      "   [0.09509804 0.09509804 0.09509804]\n",
      "   [0.10392157 0.10392157 0.10392157]]\n",
      "\n",
      "  [[0.3156863  0.3156863  0.3156863 ]\n",
      "   [0.39411765 0.39411765 0.39411765]\n",
      "   [0.42156863 0.42156863 0.42156863]\n",
      "   ...\n",
      "   [0.22941177 0.22941177 0.22941177]\n",
      "   [0.21960784 0.21960784 0.21960784]\n",
      "   [0.21960784 0.21960784 0.21960784]]]\n",
      "\n",
      "\n",
      " [[[0.00838767 0.00838767 0.00838767]\n",
      "   [0.00998775 0.00998775 0.00998775]\n",
      "   [0.00454963 0.00454963 0.00454963]\n",
      "   ...\n",
      "   [0.1586397  0.1586397  0.1586397 ]\n",
      "   [0.15471813 0.15471813 0.15471813]\n",
      "   [0.1994611  0.1994611  0.1994611 ]]\n",
      "\n",
      "  [[0.         0.         0.        ]\n",
      "   [0.         0.         0.        ]\n",
      "   [0.         0.         0.        ]\n",
      "   ...\n",
      "   [0.1882353  0.1882353  0.1882353 ]\n",
      "   [0.18431373 0.18431373 0.18431373]\n",
      "   [0.23517157 0.23517157 0.23517157]]\n",
      "\n",
      "  [[0.1003911  0.1003911  0.1003911 ]\n",
      "   [0.08287378 0.08287378 0.08287378]\n",
      "   [0.06704712 0.06704712 0.06704712]\n",
      "   ...\n",
      "   [0.21280637 0.21280637 0.21280637]\n",
      "   [0.21672794 0.21672794 0.21672794]\n",
      "   [0.26552263 0.26552263 0.26552263]]\n",
      "\n",
      "  ...\n",
      "\n",
      "  [[0.76602733 0.76602733 0.76602733]\n",
      "   [0.8105078  0.8105078  0.8105078 ]\n",
      "   [0.76724374 0.76724374 0.76724374]\n",
      "   ...\n",
      "   [0.78151935 0.78151935 0.78151935]\n",
      "   [0.78529567 0.78529567 0.78529567]\n",
      "   [0.7137255  0.7137255  0.7137255 ]]\n",
      "\n",
      "  [[0.7682732  0.7682732  0.7682732 ]\n",
      "   [0.8214414  0.8214414  0.8214414 ]\n",
      "   [0.75805604 0.75805604 0.75805604]\n",
      "   ...\n",
      "   [0.7861213  0.7861213  0.7861213 ]\n",
      "   [0.77211535 0.77211535 0.77211535]\n",
      "   [0.7030087  0.7030087  0.7030087 ]]\n",
      "\n",
      "  [[0.74416363 0.74416363 0.74416363]\n",
      "   [0.82539827 0.82539827 0.82539827]\n",
      "   [0.7764706  0.7764706  0.7764706 ]\n",
      "   ...\n",
      "   [0.77863616 0.77863616 0.77863616]\n",
      "   [0.73360276 0.73360276 0.73360276]\n",
      "   [0.7205729  0.7205729  0.7205729 ]]]\n",
      "\n",
      "\n",
      " ...\n",
      "\n",
      "\n",
      " [[[0.62168354 0.62168354 0.62168354]\n",
      "   [0.61935127 0.61935127 0.61935127]\n",
      "   [0.5192517  0.5192517  0.5192517 ]\n",
      "   ...\n",
      "   [0.2492513  0.2492513  0.2492513 ]\n",
      "   [0.23925781 0.23925781 0.23925781]\n",
      "   [0.2701938  0.2701938  0.2701938 ]]\n",
      "\n",
      "  [[0.5336818  0.5336818  0.5336818 ]\n",
      "   [0.55422795 0.55422795 0.55422795]\n",
      "   [0.5728382  0.5728382  0.5728382 ]\n",
      "   ...\n",
      "   [0.29093137 0.29093137 0.29093137]\n",
      "   [0.32309666 0.32309666 0.32309666]\n",
      "   [0.31989315 0.31989315 0.31989315]]\n",
      "\n",
      "  [[0.51860833 0.51860833 0.51860833]\n",
      "   [0.5604741  0.5604741  0.5604741 ]\n",
      "   [0.56092983 0.56092983 0.56092983]\n",
      "   ...\n",
      "   [0.32612973 0.32612973 0.32612973]\n",
      "   [0.3507621  0.3507621  0.3507621 ]\n",
      "   [0.35667127 0.35667127 0.35667127]]\n",
      "\n",
      "  ...\n",
      "\n",
      "  [[0.23495711 0.23495711 0.23495711]\n",
      "   [0.46534544 0.46534544 0.46534544]\n",
      "   [0.53036344 0.53036344 0.53036344]\n",
      "   ...\n",
      "   [0.         0.         0.        ]\n",
      "   [0.         0.         0.        ]\n",
      "   [0.         0.         0.        ]]\n",
      "\n",
      "  [[0.26299977 0.26299977 0.26299977]\n",
      "   [0.44528952 0.44528952 0.44528952]\n",
      "   [0.5755208  0.5755208  0.5755208 ]\n",
      "   ...\n",
      "   [0.         0.         0.        ]\n",
      "   [0.         0.         0.        ]\n",
      "   [0.         0.         0.        ]]\n",
      "\n",
      "  [[0.25931373 0.25931373 0.25931373]\n",
      "   [0.39893728 0.39893728 0.39893728]\n",
      "   [0.5221124  0.5221124  0.5221124 ]\n",
      "   ...\n",
      "   [0.         0.         0.        ]\n",
      "   [0.         0.         0.        ]\n",
      "   [0.         0.         0.        ]]]\n",
      "\n",
      "\n",
      " [[[0.23324142 0.23324142 0.23324142]\n",
      "   [0.20395903 0.20395903 0.20395903]\n",
      "   [0.215032   0.215032   0.215032  ]\n",
      "   ...\n",
      "   [0.16845499 0.16845499 0.16845499]\n",
      "   [0.14147267 0.14147267 0.14147267]\n",
      "   [0.11531863 0.11531863 0.11531863]]\n",
      "\n",
      "  [[0.48288396 0.48288396 0.48288396]\n",
      "   [0.26028922 0.26028922 0.26028922]\n",
      "   [0.2209183  0.2209183  0.2209183 ]\n",
      "   ...\n",
      "   [0.15029453 0.15029453 0.15029453]\n",
      "   [0.12414742 0.12414742 0.12414742]\n",
      "   [0.09377896 0.09377896 0.09377896]]\n",
      "\n",
      "  [[0.43048012 0.43048012 0.43048012]\n",
      "   [0.4979947  0.4979947  0.4979947 ]\n",
      "   [0.33365265 0.33365265 0.33365265]\n",
      "   ...\n",
      "   [0.14397535 0.14397535 0.14397535]\n",
      "   [0.10067055 0.10067055 0.10067055]\n",
      "   [0.08249476 0.08249476 0.08249476]]\n",
      "\n",
      "  ...\n",
      "\n",
      "  [[0.04316394 0.04316394 0.04316394]\n",
      "   [0.04784355 0.04784355 0.04784355]\n",
      "   [0.04985771 0.04985771 0.04985771]\n",
      "   ...\n",
      "   [0.28448224 0.28448224 0.28448224]\n",
      "   [0.28598344 0.28598344 0.28598344]\n",
      "   [0.2849418  0.2849418  0.2849418 ]]\n",
      "\n",
      "  [[0.14257047 0.14257047 0.14257047]\n",
      "   [0.14965282 0.14965282 0.14965282]\n",
      "   [0.14486825 0.14486825 0.14486825]\n",
      "   ...\n",
      "   [0.4986742  0.4986742  0.4986742 ]\n",
      "   [0.5032884  0.5032884  0.5032884 ]\n",
      "   [0.5243566  0.5243566  0.5243566 ]]\n",
      "\n",
      "  [[0.37009972 0.37009972 0.37009972]\n",
      "   [0.3792058  0.3792058  0.3792058 ]\n",
      "   [0.36712277 0.36712277 0.36712277]\n",
      "   ...\n",
      "   [0.9409156  0.9409156  0.9409156 ]\n",
      "   [0.9713916  0.9713916  0.9713916 ]\n",
      "   [0.9722466  0.9722466  0.9722466 ]]]\n",
      "\n",
      "\n",
      " [[[0.18622376 0.18622376 0.18622376]\n",
      "   [0.16513623 0.16513623 0.16513623]\n",
      "   [0.14833698 0.14833698 0.14833698]\n",
      "   ...\n",
      "   [0.1645637  0.1645637  0.1645637 ]\n",
      "   [0.15971297 0.15971297 0.15971297]\n",
      "   [0.15367599 0.15367599 0.15367599]]\n",
      "\n",
      "  [[0.20735008 0.20735008 0.20735008]\n",
      "   [0.15276597 0.15276597 0.15276597]\n",
      "   [0.13773313 0.13773313 0.13773313]\n",
      "   ...\n",
      "   [0.22295927 0.22295927 0.22295927]\n",
      "   [0.19861701 0.19861701 0.19861701]\n",
      "   [0.21044539 0.21044539 0.21044539]]\n",
      "\n",
      "  [[0.33247405 0.33247405 0.33247405]\n",
      "   [0.36174604 0.36174604 0.36174604]\n",
      "   [0.32144657 0.32144657 0.32144657]\n",
      "   ...\n",
      "   [0.25686225 0.25686225 0.25686225]\n",
      "   [0.2475021  0.2475021  0.2475021 ]\n",
      "   [0.249674   0.249674   0.249674  ]]\n",
      "\n",
      "  ...\n",
      "\n",
      "  [[0.11931727 0.11931727 0.11931727]\n",
      "   [0.17310049 0.17310049 0.17310049]\n",
      "   [0.18026339 0.18026339 0.18026339]\n",
      "   ...\n",
      "   [0.06699745 0.06699745 0.06699745]\n",
      "   [0.06987879 0.06987879 0.06987879]\n",
      "   [0.07386642 0.07386642 0.07386642]]\n",
      "\n",
      "  [[0.11225394 0.11225394 0.11225394]\n",
      "   [0.18507822 0.18507822 0.18507822]\n",
      "   [0.14880036 0.14880036 0.14880036]\n",
      "   ...\n",
      "   [0.06268382 0.06268382 0.06268382]\n",
      "   [0.06608313 0.06608313 0.06608313]\n",
      "   [0.07686887 0.07686887 0.07686887]]\n",
      "\n",
      "  [[0.11710612 0.11710612 0.11710612]\n",
      "   [0.15606713 0.15606713 0.15606713]\n",
      "   [0.14150487 0.14150487 0.14150487]\n",
      "   ...\n",
      "   [0.0643076  0.0643076  0.0643076 ]\n",
      "   [0.07218137 0.07218137 0.07218137]\n",
      "   [0.07798187 0.07798187 0.07798187]]]]\n"
     ]
    }
   ],
   "source": [
    "print(X_train.shape)\n",
    "print(X_train)"
   ]
  },
  {
   "cell_type": "code",
   "execution_count": 18,
   "metadata": {},
   "outputs": [],
   "source": [
    "# from tensorflow.keras.utils import np_utils\n",
    "# y_train = np_utils.to_categorical(y_train)\n",
    "y_train = tf.keras.utils.to_categorical(y_train)\n",
    "# y_test= np_utils.to_categorical(y_test)\n",
    "y_test= tf.keras.utils.to_categorical(y_test)\n",
    "# y_val = np_utils.to_categorical(y_val)\n",
    "y_val = tf.keras.utils.to_categorical(y_val)\n"
   ]
  },
  {
   "cell_type": "code",
   "execution_count": 19,
   "metadata": {},
   "outputs": [
    {
     "name": "stdout",
     "output_type": "stream",
     "text": [
      "[[1. 0. 0.]\n",
      " [1. 0. 0.]\n",
      " [1. 0. 0.]\n",
      " ...\n",
      " [0. 0. 1.]\n",
      " [0. 0. 1.]\n",
      " [0. 0. 1.]]\n"
     ]
    }
   ],
   "source": [
    "print(y_test)"
   ]
  },
  {
   "cell_type": "code",
   "execution_count": 20,
   "metadata": {},
   "outputs": [
    {
     "data": {
      "text/html": [
       "<pre style=\"white-space:pre;overflow-x:auto;line-height:normal;font-family:Menlo,'DejaVu Sans Mono',consolas,'Courier New',monospace\"><span style=\"font-weight: bold\">Model: \"functional_1\"</span>\n",
       "</pre>\n"
      ],
      "text/plain": [
       "\u001b[1mModel: \"functional_1\"\u001b[0m\n"
      ]
     },
     "metadata": {},
     "output_type": "display_data"
    },
    {
     "data": {
      "text/html": [
       "<pre style=\"white-space:pre;overflow-x:auto;line-height:normal;font-family:Menlo,'DejaVu Sans Mono',consolas,'Courier New',monospace\">┏━━━━━━━━━━━━━━━━━━━━━━━━━━━━━━━━━┳━━━━━━━━━━━━━━━━━━━━━━━━┳━━━━━━━━━━━━━━━┓\n",
       "┃<span style=\"font-weight: bold\"> Layer (type)                    </span>┃<span style=\"font-weight: bold\"> Output Shape           </span>┃<span style=\"font-weight: bold\">       Param # </span>┃\n",
       "┡━━━━━━━━━━━━━━━━━━━━━━━━━━━━━━━━━╇━━━━━━━━━━━━━━━━━━━━━━━━╇━━━━━━━━━━━━━━━┩\n",
       "│ input_layer_1 (<span style=\"color: #0087ff; text-decoration-color: #0087ff\">InputLayer</span>)      │ (<span style=\"color: #00d7ff; text-decoration-color: #00d7ff\">None</span>, <span style=\"color: #00af00; text-decoration-color: #00af00\">128</span>, <span style=\"color: #00af00; text-decoration-color: #00af00\">128</span>, <span style=\"color: #00af00; text-decoration-color: #00af00\">3</span>)    │             <span style=\"color: #00af00; text-decoration-color: #00af00\">0</span> │\n",
       "├─────────────────────────────────┼────────────────────────┼───────────────┤\n",
       "│ conv2d (<span style=\"color: #0087ff; text-decoration-color: #0087ff\">Conv2D</span>)                 │ (<span style=\"color: #00d7ff; text-decoration-color: #00d7ff\">None</span>, <span style=\"color: #00af00; text-decoration-color: #00af00\">128</span>, <span style=\"color: #00af00; text-decoration-color: #00af00\">128</span>, <span style=\"color: #00af00; text-decoration-color: #00af00\">8</span>)    │           <span style=\"color: #00af00; text-decoration-color: #00af00\">392</span> │\n",
       "├─────────────────────────────────┼────────────────────────┼───────────────┤\n",
       "│ re_lu (<span style=\"color: #0087ff; text-decoration-color: #0087ff\">ReLU</span>)                    │ (<span style=\"color: #00d7ff; text-decoration-color: #00d7ff\">None</span>, <span style=\"color: #00af00; text-decoration-color: #00af00\">128</span>, <span style=\"color: #00af00; text-decoration-color: #00af00\">128</span>, <span style=\"color: #00af00; text-decoration-color: #00af00\">8</span>)    │             <span style=\"color: #00af00; text-decoration-color: #00af00\">0</span> │\n",
       "├─────────────────────────────────┼────────────────────────┼───────────────┤\n",
       "│ max_pooling2d (<span style=\"color: #0087ff; text-decoration-color: #0087ff\">MaxPooling2D</span>)    │ (<span style=\"color: #00d7ff; text-decoration-color: #00d7ff\">None</span>, <span style=\"color: #00af00; text-decoration-color: #00af00\">32</span>, <span style=\"color: #00af00; text-decoration-color: #00af00\">32</span>, <span style=\"color: #00af00; text-decoration-color: #00af00\">8</span>)      │             <span style=\"color: #00af00; text-decoration-color: #00af00\">0</span> │\n",
       "├─────────────────────────────────┼────────────────────────┼───────────────┤\n",
       "│ conv2d_1 (<span style=\"color: #0087ff; text-decoration-color: #0087ff\">Conv2D</span>)               │ (<span style=\"color: #00d7ff; text-decoration-color: #00d7ff\">None</span>, <span style=\"color: #00af00; text-decoration-color: #00af00\">32</span>, <span style=\"color: #00af00; text-decoration-color: #00af00\">32</span>, <span style=\"color: #00af00; text-decoration-color: #00af00\">16</span>)     │           <span style=\"color: #00af00; text-decoration-color: #00af00\">528</span> │\n",
       "├─────────────────────────────────┼────────────────────────┼───────────────┤\n",
       "│ re_lu_1 (<span style=\"color: #0087ff; text-decoration-color: #0087ff\">ReLU</span>)                  │ (<span style=\"color: #00d7ff; text-decoration-color: #00d7ff\">None</span>, <span style=\"color: #00af00; text-decoration-color: #00af00\">32</span>, <span style=\"color: #00af00; text-decoration-color: #00af00\">32</span>, <span style=\"color: #00af00; text-decoration-color: #00af00\">16</span>)     │             <span style=\"color: #00af00; text-decoration-color: #00af00\">0</span> │\n",
       "├─────────────────────────────────┼────────────────────────┼───────────────┤\n",
       "│ max_pooling2d_1 (<span style=\"color: #0087ff; text-decoration-color: #0087ff\">MaxPooling2D</span>)  │ (<span style=\"color: #00d7ff; text-decoration-color: #00d7ff\">None</span>, <span style=\"color: #00af00; text-decoration-color: #00af00\">8</span>, <span style=\"color: #00af00; text-decoration-color: #00af00\">8</span>, <span style=\"color: #00af00; text-decoration-color: #00af00\">16</span>)       │             <span style=\"color: #00af00; text-decoration-color: #00af00\">0</span> │\n",
       "├─────────────────────────────────┼────────────────────────┼───────────────┤\n",
       "│ conv2d_2 (<span style=\"color: #0087ff; text-decoration-color: #0087ff\">Conv2D</span>)               │ (<span style=\"color: #00d7ff; text-decoration-color: #00d7ff\">None</span>, <span style=\"color: #00af00; text-decoration-color: #00af00\">8</span>, <span style=\"color: #00af00; text-decoration-color: #00af00\">8</span>, <span style=\"color: #00af00; text-decoration-color: #00af00\">32</span>)       │         <span style=\"color: #00af00; text-decoration-color: #00af00\">8,224</span> │\n",
       "├─────────────────────────────────┼────────────────────────┼───────────────┤\n",
       "│ re_lu_2 (<span style=\"color: #0087ff; text-decoration-color: #0087ff\">ReLU</span>)                  │ (<span style=\"color: #00d7ff; text-decoration-color: #00d7ff\">None</span>, <span style=\"color: #00af00; text-decoration-color: #00af00\">8</span>, <span style=\"color: #00af00; text-decoration-color: #00af00\">8</span>, <span style=\"color: #00af00; text-decoration-color: #00af00\">32</span>)       │             <span style=\"color: #00af00; text-decoration-color: #00af00\">0</span> │\n",
       "├─────────────────────────────────┼────────────────────────┼───────────────┤\n",
       "│ max_pooling2d_2 (<span style=\"color: #0087ff; text-decoration-color: #0087ff\">MaxPooling2D</span>)  │ (<span style=\"color: #00d7ff; text-decoration-color: #00d7ff\">None</span>, <span style=\"color: #00af00; text-decoration-color: #00af00\">2</span>, <span style=\"color: #00af00; text-decoration-color: #00af00\">2</span>, <span style=\"color: #00af00; text-decoration-color: #00af00\">32</span>)       │             <span style=\"color: #00af00; text-decoration-color: #00af00\">0</span> │\n",
       "├─────────────────────────────────┼────────────────────────┼───────────────┤\n",
       "│ conv2d_4 (<span style=\"color: #0087ff; text-decoration-color: #0087ff\">Conv2D</span>)               │ (<span style=\"color: #00d7ff; text-decoration-color: #00d7ff\">None</span>, <span style=\"color: #00af00; text-decoration-color: #00af00\">2</span>, <span style=\"color: #00af00; text-decoration-color: #00af00\">2</span>, <span style=\"color: #00af00; text-decoration-color: #00af00\">16</span>)       │         <span style=\"color: #00af00; text-decoration-color: #00af00\">2,064</span> │\n",
       "├─────────────────────────────────┼────────────────────────┼───────────────┤\n",
       "│ re_lu_3 (<span style=\"color: #0087ff; text-decoration-color: #0087ff\">ReLU</span>)                  │ (<span style=\"color: #00d7ff; text-decoration-color: #00d7ff\">None</span>, <span style=\"color: #00af00; text-decoration-color: #00af00\">2</span>, <span style=\"color: #00af00; text-decoration-color: #00af00\">2</span>, <span style=\"color: #00af00; text-decoration-color: #00af00\">16</span>)       │             <span style=\"color: #00af00; text-decoration-color: #00af00\">0</span> │\n",
       "├─────────────────────────────────┼────────────────────────┼───────────────┤\n",
       "│ max_pooling2d_4 (<span style=\"color: #0087ff; text-decoration-color: #0087ff\">MaxPooling2D</span>)  │ (<span style=\"color: #00d7ff; text-decoration-color: #00d7ff\">None</span>, <span style=\"color: #00af00; text-decoration-color: #00af00\">1</span>, <span style=\"color: #00af00; text-decoration-color: #00af00\">1</span>, <span style=\"color: #00af00; text-decoration-color: #00af00\">16</span>)       │             <span style=\"color: #00af00; text-decoration-color: #00af00\">0</span> │\n",
       "├─────────────────────────────────┼────────────────────────┼───────────────┤\n",
       "│ flatten (<span style=\"color: #0087ff; text-decoration-color: #0087ff\">Flatten</span>)               │ (<span style=\"color: #00d7ff; text-decoration-color: #00d7ff\">None</span>, <span style=\"color: #00af00; text-decoration-color: #00af00\">16</span>)             │             <span style=\"color: #00af00; text-decoration-color: #00af00\">0</span> │\n",
       "├─────────────────────────────────┼────────────────────────┼───────────────┤\n",
       "│ dense (<span style=\"color: #0087ff; text-decoration-color: #0087ff\">Dense</span>)                   │ (<span style=\"color: #00d7ff; text-decoration-color: #00d7ff\">None</span>, <span style=\"color: #00af00; text-decoration-color: #00af00\">16</span>)             │           <span style=\"color: #00af00; text-decoration-color: #00af00\">272</span> │\n",
       "├─────────────────────────────────┼────────────────────────┼───────────────┤\n",
       "│ dense_1 (<span style=\"color: #0087ff; text-decoration-color: #0087ff\">Dense</span>)                 │ (<span style=\"color: #00d7ff; text-decoration-color: #00d7ff\">None</span>, <span style=\"color: #00af00; text-decoration-color: #00af00\">3</span>)              │            <span style=\"color: #00af00; text-decoration-color: #00af00\">51</span> │\n",
       "└─────────────────────────────────┴────────────────────────┴───────────────┘\n",
       "</pre>\n"
      ],
      "text/plain": [
       "┏━━━━━━━━━━━━━━━━━━━━━━━━━━━━━━━━━┳━━━━━━━━━━━━━━━━━━━━━━━━┳━━━━━━━━━━━━━━━┓\n",
       "┃\u001b[1m \u001b[0m\u001b[1mLayer (type)                   \u001b[0m\u001b[1m \u001b[0m┃\u001b[1m \u001b[0m\u001b[1mOutput Shape          \u001b[0m\u001b[1m \u001b[0m┃\u001b[1m \u001b[0m\u001b[1m      Param #\u001b[0m\u001b[1m \u001b[0m┃\n",
       "┡━━━━━━━━━━━━━━━━━━━━━━━━━━━━━━━━━╇━━━━━━━━━━━━━━━━━━━━━━━━╇━━━━━━━━━━━━━━━┩\n",
       "│ input_layer_1 (\u001b[38;5;33mInputLayer\u001b[0m)      │ (\u001b[38;5;45mNone\u001b[0m, \u001b[38;5;34m128\u001b[0m, \u001b[38;5;34m128\u001b[0m, \u001b[38;5;34m3\u001b[0m)    │             \u001b[38;5;34m0\u001b[0m │\n",
       "├─────────────────────────────────┼────────────────────────┼───────────────┤\n",
       "│ conv2d (\u001b[38;5;33mConv2D\u001b[0m)                 │ (\u001b[38;5;45mNone\u001b[0m, \u001b[38;5;34m128\u001b[0m, \u001b[38;5;34m128\u001b[0m, \u001b[38;5;34m8\u001b[0m)    │           \u001b[38;5;34m392\u001b[0m │\n",
       "├─────────────────────────────────┼────────────────────────┼───────────────┤\n",
       "│ re_lu (\u001b[38;5;33mReLU\u001b[0m)                    │ (\u001b[38;5;45mNone\u001b[0m, \u001b[38;5;34m128\u001b[0m, \u001b[38;5;34m128\u001b[0m, \u001b[38;5;34m8\u001b[0m)    │             \u001b[38;5;34m0\u001b[0m │\n",
       "├─────────────────────────────────┼────────────────────────┼───────────────┤\n",
       "│ max_pooling2d (\u001b[38;5;33mMaxPooling2D\u001b[0m)    │ (\u001b[38;5;45mNone\u001b[0m, \u001b[38;5;34m32\u001b[0m, \u001b[38;5;34m32\u001b[0m, \u001b[38;5;34m8\u001b[0m)      │             \u001b[38;5;34m0\u001b[0m │\n",
       "├─────────────────────────────────┼────────────────────────┼───────────────┤\n",
       "│ conv2d_1 (\u001b[38;5;33mConv2D\u001b[0m)               │ (\u001b[38;5;45mNone\u001b[0m, \u001b[38;5;34m32\u001b[0m, \u001b[38;5;34m32\u001b[0m, \u001b[38;5;34m16\u001b[0m)     │           \u001b[38;5;34m528\u001b[0m │\n",
       "├─────────────────────────────────┼────────────────────────┼───────────────┤\n",
       "│ re_lu_1 (\u001b[38;5;33mReLU\u001b[0m)                  │ (\u001b[38;5;45mNone\u001b[0m, \u001b[38;5;34m32\u001b[0m, \u001b[38;5;34m32\u001b[0m, \u001b[38;5;34m16\u001b[0m)     │             \u001b[38;5;34m0\u001b[0m │\n",
       "├─────────────────────────────────┼────────────────────────┼───────────────┤\n",
       "│ max_pooling2d_1 (\u001b[38;5;33mMaxPooling2D\u001b[0m)  │ (\u001b[38;5;45mNone\u001b[0m, \u001b[38;5;34m8\u001b[0m, \u001b[38;5;34m8\u001b[0m, \u001b[38;5;34m16\u001b[0m)       │             \u001b[38;5;34m0\u001b[0m │\n",
       "├─────────────────────────────────┼────────────────────────┼───────────────┤\n",
       "│ conv2d_2 (\u001b[38;5;33mConv2D\u001b[0m)               │ (\u001b[38;5;45mNone\u001b[0m, \u001b[38;5;34m8\u001b[0m, \u001b[38;5;34m8\u001b[0m, \u001b[38;5;34m32\u001b[0m)       │         \u001b[38;5;34m8,224\u001b[0m │\n",
       "├─────────────────────────────────┼────────────────────────┼───────────────┤\n",
       "│ re_lu_2 (\u001b[38;5;33mReLU\u001b[0m)                  │ (\u001b[38;5;45mNone\u001b[0m, \u001b[38;5;34m8\u001b[0m, \u001b[38;5;34m8\u001b[0m, \u001b[38;5;34m32\u001b[0m)       │             \u001b[38;5;34m0\u001b[0m │\n",
       "├─────────────────────────────────┼────────────────────────┼───────────────┤\n",
       "│ max_pooling2d_2 (\u001b[38;5;33mMaxPooling2D\u001b[0m)  │ (\u001b[38;5;45mNone\u001b[0m, \u001b[38;5;34m2\u001b[0m, \u001b[38;5;34m2\u001b[0m, \u001b[38;5;34m32\u001b[0m)       │             \u001b[38;5;34m0\u001b[0m │\n",
       "├─────────────────────────────────┼────────────────────────┼───────────────┤\n",
       "│ conv2d_4 (\u001b[38;5;33mConv2D\u001b[0m)               │ (\u001b[38;5;45mNone\u001b[0m, \u001b[38;5;34m2\u001b[0m, \u001b[38;5;34m2\u001b[0m, \u001b[38;5;34m16\u001b[0m)       │         \u001b[38;5;34m2,064\u001b[0m │\n",
       "├─────────────────────────────────┼────────────────────────┼───────────────┤\n",
       "│ re_lu_3 (\u001b[38;5;33mReLU\u001b[0m)                  │ (\u001b[38;5;45mNone\u001b[0m, \u001b[38;5;34m2\u001b[0m, \u001b[38;5;34m2\u001b[0m, \u001b[38;5;34m16\u001b[0m)       │             \u001b[38;5;34m0\u001b[0m │\n",
       "├─────────────────────────────────┼────────────────────────┼───────────────┤\n",
       "│ max_pooling2d_4 (\u001b[38;5;33mMaxPooling2D\u001b[0m)  │ (\u001b[38;5;45mNone\u001b[0m, \u001b[38;5;34m1\u001b[0m, \u001b[38;5;34m1\u001b[0m, \u001b[38;5;34m16\u001b[0m)       │             \u001b[38;5;34m0\u001b[0m │\n",
       "├─────────────────────────────────┼────────────────────────┼───────────────┤\n",
       "│ flatten (\u001b[38;5;33mFlatten\u001b[0m)               │ (\u001b[38;5;45mNone\u001b[0m, \u001b[38;5;34m16\u001b[0m)             │             \u001b[38;5;34m0\u001b[0m │\n",
       "├─────────────────────────────────┼────────────────────────┼───────────────┤\n",
       "│ dense (\u001b[38;5;33mDense\u001b[0m)                   │ (\u001b[38;5;45mNone\u001b[0m, \u001b[38;5;34m16\u001b[0m)             │           \u001b[38;5;34m272\u001b[0m │\n",
       "├─────────────────────────────────┼────────────────────────┼───────────────┤\n",
       "│ dense_1 (\u001b[38;5;33mDense\u001b[0m)                 │ (\u001b[38;5;45mNone\u001b[0m, \u001b[38;5;34m3\u001b[0m)              │            \u001b[38;5;34m51\u001b[0m │\n",
       "└─────────────────────────────────┴────────────────────────┴───────────────┘\n"
      ]
     },
     "metadata": {},
     "output_type": "display_data"
    },
    {
     "data": {
      "text/html": [
       "<pre style=\"white-space:pre;overflow-x:auto;line-height:normal;font-family:Menlo,'DejaVu Sans Mono',consolas,'Courier New',monospace\"><span style=\"font-weight: bold\"> Total params: </span><span style=\"color: #00af00; text-decoration-color: #00af00\">11,531</span> (45.04 KB)\n",
       "</pre>\n"
      ],
      "text/plain": [
       "\u001b[1m Total params: \u001b[0m\u001b[38;5;34m11,531\u001b[0m (45.04 KB)\n"
      ]
     },
     "metadata": {},
     "output_type": "display_data"
    },
    {
     "data": {
      "text/html": [
       "<pre style=\"white-space:pre;overflow-x:auto;line-height:normal;font-family:Menlo,'DejaVu Sans Mono',consolas,'Courier New',monospace\"><span style=\"font-weight: bold\"> Trainable params: </span><span style=\"color: #00af00; text-decoration-color: #00af00\">11,531</span> (45.04 KB)\n",
       "</pre>\n"
      ],
      "text/plain": [
       "\u001b[1m Trainable params: \u001b[0m\u001b[38;5;34m11,531\u001b[0m (45.04 KB)\n"
      ]
     },
     "metadata": {},
     "output_type": "display_data"
    },
    {
     "data": {
      "text/html": [
       "<pre style=\"white-space:pre;overflow-x:auto;line-height:normal;font-family:Menlo,'DejaVu Sans Mono',consolas,'Courier New',monospace\"><span style=\"font-weight: bold\"> Non-trainable params: </span><span style=\"color: #00af00; text-decoration-color: #00af00\">0</span> (0.00 B)\n",
       "</pre>\n"
      ],
      "text/plain": [
       "\u001b[1m Non-trainable params: \u001b[0m\u001b[38;5;34m0\u001b[0m (0.00 B)\n"
      ]
     },
     "metadata": {},
     "output_type": "display_data"
    }
   ],
   "source": [
    "# base_model = VGG16(weights='imagenet', include_top=False, input_shape=(128,128,3))\n",
    "\n",
    "# for layer in base_model.layers:\n",
    "#     layer.trainable=False\n",
    "\n",
    "# model = Sequential()\n",
    "# model.add(Conv2D)\n",
    "# model.add(Flatten())\n",
    "# model.add(Dense(1024))\n",
    "# model.add(Activation('relu'))\n",
    "# model.add(Dense(512))\n",
    "# model.add(Activation('relu'))\n",
    "# model.add(Dense(3))\n",
    "# model.add(Activation('sigmoid'))\n",
    "\n",
    "from numpy import concatenate\n",
    "import keras.backend as K\n",
    "\n",
    "input_shape = (128,128,3)\n",
    "\n",
    "input_img = tf.keras.Input(shape=input_shape)\n",
    "# Define the input layer\n",
    "input_img = tf.keras.Input(shape=input_shape)\n",
    "\n",
    "# First convolutional layer\n",
    "Z1 = tf.keras.layers.Conv2D(8, (4, 4), strides=(1, 1), padding=\"same\")(input_img)\n",
    "A1 = tf.keras.layers.ReLU()(Z1)\n",
    "P1 = tf.keras.layers.MaxPooling2D(pool_size=(8, 8), strides=(4, 4), padding=\"same\")(A1)\n",
    "\n",
    "# Second convolutional layer\n",
    "Z2 = tf.keras.layers.Conv2D(filters=16,kernel_size=(2, 2), strides=(1, 1), padding=\"same\")(P1)\n",
    "A2 = tf.keras.layers.ReLU()(Z2)\n",
    "P2 = tf.keras.layers.MaxPooling2D(pool_size=(4, 4), strides=(4, 4), padding=\"same\")(A2)\n",
    "\n",
    "# Third convolutional layer\n",
    "Z3 = tf.keras.layers.Conv2D(32, (4, 4), strides=(1, 1), padding=\"same\")(P2)\n",
    "A3 = tf.keras.layers.ReLU()(Z3)\n",
    "P3 = tf.keras.layers.MaxPooling2D(pool_size=(4, 4), strides=(4, 4), padding=\"valid\")(A3)\n",
    "\n",
    "# Skip Connection Z1\n",
    "S1 = tf.keras.layers.Conv2D(16,kernel_size=(1,1),strides=(1,1),padding=\"same\")(Z1)\n",
    "S1_pooled = tf.keras.layers.MaxPool2D(pool_size=(56,56), strides=(8,8),padding = \"same\")\n",
    "\n",
    "# Fourth convolutional layer\n",
    "Z4 = tf.keras.layers.Conv2D(filters=16,kernel_size=(2, 2), strides=(1, 1), padding=\"same\")(P3)\n",
    "# merge = tf.keras.layers.Concatenate(axis=3)([Z4, S1_pooled])\n",
    "A4 = tf.keras.layers.ReLU()(Z4)\n",
    "P4 = tf.keras.layers.MaxPooling2D(pool_size=(4, 4), strides=(4, 4), padding=\"same\")(A4)\n",
    "\n",
    "F = tf.keras.layers.Flatten()(P4)\n",
    "\n",
    "D1 = tf.keras.layers.Dense(units = 16, activation=\"tanh\")(F)\n",
    "\n",
    "outputs = tf.keras.layers.Dense(units=3,activation=\"softmax\")(D1)\n",
    "\n",
    "model = tf.keras.Model(inputs=input_img, outputs = outputs)\n",
    "model.summary()"
   ]
  },
  {
   "cell_type": "code",
   "execution_count": 23,
   "metadata": {},
   "outputs": [
    {
     "name": "stdout",
     "output_type": "stream",
     "text": [
      "Epoch 1/20\n",
      "\u001b[1m145/145\u001b[0m \u001b[32m━━━━━━━━━━━━━━━━━━━━\u001b[0m\u001b[37m\u001b[0m \u001b[1m8s\u001b[0m 38ms/step - accuracy: 0.7714 - loss: 0.5521 - val_accuracy: 0.8667 - val_loss: 0.5093\n",
      "Epoch 2/20\n",
      "\u001b[1m145/145\u001b[0m \u001b[32m━━━━━━━━━━━━━━━━━━━━\u001b[0m\u001b[37m\u001b[0m \u001b[1m5s\u001b[0m 36ms/step - accuracy: 0.7822 - loss: 0.5455 - val_accuracy: 0.8762 - val_loss: 0.5006\n",
      "Epoch 3/20\n",
      "\u001b[1m145/145\u001b[0m \u001b[32m━━━━━━━━━━━━━━━━━━━━\u001b[0m\u001b[37m\u001b[0m \u001b[1m5s\u001b[0m 37ms/step - accuracy: 0.7850 - loss: 0.5455 - val_accuracy: 0.8667 - val_loss: 0.4923\n",
      "Epoch 4/20\n",
      "\u001b[1m145/145\u001b[0m \u001b[32m━━━━━━━━━━━━━━━━━━━━\u001b[0m\u001b[37m\u001b[0m \u001b[1m5s\u001b[0m 36ms/step - accuracy: 0.7839 - loss: 0.5450 - val_accuracy: 0.8762 - val_loss: 0.4837\n",
      "Epoch 5/20\n",
      "\u001b[1m145/145\u001b[0m \u001b[32m━━━━━━━━━━━━━━━━━━━━\u001b[0m\u001b[37m\u001b[0m \u001b[1m5s\u001b[0m 37ms/step - accuracy: 0.7926 - loss: 0.5329 - val_accuracy: 0.8762 - val_loss: 0.4758\n",
      "Epoch 6/20\n",
      "\u001b[1m145/145\u001b[0m \u001b[32m━━━━━━━━━━━━━━━━━━━━\u001b[0m\u001b[37m\u001b[0m \u001b[1m5s\u001b[0m 37ms/step - accuracy: 0.8040 - loss: 0.5170 - val_accuracy: 0.8857 - val_loss: 0.4700\n",
      "Epoch 7/20\n",
      "\u001b[1m145/145\u001b[0m \u001b[32m━━━━━━━━━━━━━━━━━━━━\u001b[0m\u001b[37m\u001b[0m \u001b[1m6s\u001b[0m 41ms/step - accuracy: 0.8111 - loss: 0.5119 - val_accuracy: 0.8667 - val_loss: 0.4604\n",
      "Epoch 8/20\n",
      "\u001b[1m145/145\u001b[0m \u001b[32m━━━━━━━━━━━━━━━━━━━━\u001b[0m\u001b[37m\u001b[0m \u001b[1m5s\u001b[0m 37ms/step - accuracy: 0.8130 - loss: 0.5090 - val_accuracy: 0.8762 - val_loss: 0.4540\n",
      "Epoch 9/20\n",
      "\u001b[1m145/145\u001b[0m \u001b[32m━━━━━━━━━━━━━━━━━━━━\u001b[0m\u001b[37m\u001b[0m \u001b[1m5s\u001b[0m 36ms/step - accuracy: 0.8228 - loss: 0.4998 - val_accuracy: 0.8762 - val_loss: 0.4462\n",
      "Epoch 10/20\n",
      "\u001b[1m145/145\u001b[0m \u001b[32m━━━━━━━━━━━━━━━━━━━━\u001b[0m\u001b[37m\u001b[0m \u001b[1m5s\u001b[0m 36ms/step - accuracy: 0.8223 - loss: 0.4888 - val_accuracy: 0.8952 - val_loss: 0.4402\n",
      "Epoch 11/20\n",
      "\u001b[1m145/145\u001b[0m \u001b[32m━━━━━━━━━━━━━━━━━━━━\u001b[0m\u001b[37m\u001b[0m \u001b[1m5s\u001b[0m 37ms/step - accuracy: 0.8292 - loss: 0.4883 - val_accuracy: 0.8952 - val_loss: 0.4321\n",
      "Epoch 12/20\n",
      "\u001b[1m145/145\u001b[0m \u001b[32m━━━━━━━━━━━━━━━━━━━━\u001b[0m\u001b[37m\u001b[0m \u001b[1m5s\u001b[0m 37ms/step - accuracy: 0.8406 - loss: 0.4714 - val_accuracy: 0.8952 - val_loss: 0.4283\n",
      "Epoch 13/20\n",
      "\u001b[1m145/145\u001b[0m \u001b[32m━━━━━━━━━━━━━━━━━━━━\u001b[0m\u001b[37m\u001b[0m \u001b[1m6s\u001b[0m 38ms/step - accuracy: 0.8415 - loss: 0.4804 - val_accuracy: 0.8857 - val_loss: 0.4186\n",
      "Epoch 14/20\n",
      "\u001b[1m145/145\u001b[0m \u001b[32m━━━━━━━━━━━━━━━━━━━━\u001b[0m\u001b[37m\u001b[0m \u001b[1m5s\u001b[0m 37ms/step - accuracy: 0.8422 - loss: 0.4554 - val_accuracy: 0.8857 - val_loss: 0.4121\n",
      "Epoch 15/20\n",
      "\u001b[1m145/145\u001b[0m \u001b[32m━━━━━━━━━━━━━━━━━━━━\u001b[0m\u001b[37m\u001b[0m \u001b[1m6s\u001b[0m 38ms/step - accuracy: 0.8487 - loss: 0.4561 - val_accuracy: 0.8952 - val_loss: 0.4079\n",
      "Epoch 16/20\n",
      "\u001b[1m145/145\u001b[0m \u001b[32m━━━━━━━━━━━━━━━━━━━━\u001b[0m\u001b[37m\u001b[0m \u001b[1m5s\u001b[0m 37ms/step - accuracy: 0.8531 - loss: 0.4386 - val_accuracy: 0.9048 - val_loss: 0.4015\n",
      "Epoch 17/20\n",
      "\u001b[1m145/145\u001b[0m \u001b[32m━━━━━━━━━━━━━━━━━━━━\u001b[0m\u001b[37m\u001b[0m \u001b[1m6s\u001b[0m 38ms/step - accuracy: 0.8563 - loss: 0.4394 - val_accuracy: 0.9048 - val_loss: 0.3961\n",
      "Epoch 18/20\n",
      "\u001b[1m145/145\u001b[0m \u001b[32m━━━━━━━━━━━━━━━━━━━━\u001b[0m\u001b[37m\u001b[0m \u001b[1m5s\u001b[0m 37ms/step - accuracy: 0.8570 - loss: 0.4417 - val_accuracy: 0.9048 - val_loss: 0.3880\n",
      "Epoch 19/20\n",
      "\u001b[1m145/145\u001b[0m \u001b[32m━━━━━━━━━━━━━━━━━━━━\u001b[0m\u001b[37m\u001b[0m \u001b[1m5s\u001b[0m 37ms/step - accuracy: 0.8476 - loss: 0.4401 - val_accuracy: 0.9048 - val_loss: 0.3827\n",
      "Epoch 20/20\n",
      "\u001b[1m145/145\u001b[0m \u001b[32m━━━━━━━━━━━━━━━━━━━━\u001b[0m\u001b[37m\u001b[0m \u001b[1m6s\u001b[0m 38ms/step - accuracy: 0.8592 - loss: 0.4290 - val_accuracy: 0.9143 - val_loss: 0.3797\n"
     ]
    }
   ],
   "source": [
    "from keras.callbacks import EarlyStopping\n",
    "\n",
    "learning_rate = 0.00001\n",
    "decay_steps = 10\n",
    "decay_rate = 1\n",
    "\n",
    "\n",
    "lr_schedular = tf.keras.optimizers.schedules.ExponentialDecay(learning_rate, decay_steps, decay_rate)\n",
    "optimizer1 = tf.keras.optimizers.Adam(learning_rate=lr_schedular)\n",
    "early_stop = EarlyStopping(monitor='val_loss', patience=5, restore_best_weights=True)\n",
    "\n",
    "model.compile(optimizer = optimizer1, loss='categorical_crossentropy', metrics=['accuracy'])\n",
    "\n",
    "history = model.fit(X_train,y_train, batch_size=32,epochs=20, validation_data=(X_val, y_val), callbacks=[early_stop])"
   ]
  },
  {
   "cell_type": "code",
   "execution_count": 24,
   "metadata": {},
   "outputs": [
    {
     "data": {
      "image/png": "[encoded data removed]",
      "text/plain": [
       "<Figure size 640x480 with 1 Axes>"
      ]
     },
     "metadata": {},
     "output_type": "display_data"
    },
    {
     "data": {
      "image/png": "[encoded data removed]",
      "text/plain": [
       "<Figure size 640x480 with 1 Axes>"
      ]
     },
     "metadata": {},
     "output_type": "display_data"
    }
   ],
   "source": [
    "from matplotlib import pyplot as plt\n",
    "plt.plot(history.history['accuracy'])\n",
    "plt.plot(history.history['val_accuracy'])\n",
    "plt.title('model accuracy')\n",
    "plt.ylabel('accuracy')\n",
    "plt.xlabel('epoch')\n",
    "plt.legend(['train','test'], loc='upper left')\n",
    "plt.show()\n",
    "\n",
    "\n",
    "plt.plot(history.history['loss'])\n",
    "plt.plot(history.history['val_loss'])\n",
    "plt.title('model loss')\n",
    "plt.ylabel('loss')\n",
    "plt.xlabel('epoch')\n",
    "plt.legend(['train','val'],loc='upper left')\n",
    "plt.show()"
   ]
  },
  {
   "cell_type": "code",
   "execution_count": 25,
   "metadata": {},
   "outputs": [
    {
     "name": "stderr",
     "output_type": "stream",
     "text": [
      "WARNING:absl:You are saving your model as an HDF5 file via `model.save()` or `keras.saving.save_model(model)`. This file format is considered legacy. We recommend using instead the native Keras format, e.g. `model.save('my_model.keras')` or `keras.saving.save_model(model, 'my_model.keras')`. \n"
     ]
    }
   ],
   "source": [
    "model.save('model3.h5')"
   ]
  },
  {
   "cell_type": "code",
   "execution_count": 26,
   "metadata": {},
   "outputs": [
    {
     "name": "stderr",
     "output_type": "stream",
     "text": [
      "WARNING:absl:Compiled the loaded model, but the compiled metrics have yet to be built. `model.compile_metrics` will be empty until you train or evaluate the model.\n"
     ]
    }
   ],
   "source": [
    "model1 = load_model('model3.h5')"
   ]
  },
  {
   "cell_type": "code",
   "execution_count": 27,
   "metadata": {},
   "outputs": [
    {
     "name": "stdout",
     "output_type": "stream",
     "text": [
      "\u001b[1m13/13\u001b[0m \u001b[32m━━━━━━━━━━━━━━━━━━━━\u001b[0m\u001b[37m\u001b[0m \u001b[1m1s\u001b[0m 36ms/step\n"
     ]
    }
   ],
   "source": [
    "y_hat = model.predict(X_test_scaled)"
   ]
  },
  {
   "cell_type": "code",
   "execution_count": 28,
   "metadata": {},
   "outputs": [
    {
     "name": "stdout",
     "output_type": "stream",
     "text": [
      "[[0.5872942  0.38075346 0.03195233]\n",
      " [0.5880544  0.29745367 0.11449196]\n",
      " [0.35573992 0.5857966  0.05846348]\n",
      " ...\n",
      " [0.10013322 0.32928464 0.5705821 ]\n",
      " [0.03745358 0.16590486 0.7966415 ]\n",
      " [0.03796502 0.70424503 0.25778997]]\n"
     ]
    }
   ],
   "source": [
    "print(y_hat)"
   ]
  },
  {
   "cell_type": "code",
   "execution_count": 29,
   "metadata": {},
   "outputs": [
    {
     "name": "stdout",
     "output_type": "stream",
     "text": [
      "[[1. 0. 0.]\n",
      " [1. 0. 0.]\n",
      " [0. 1. 0.]\n",
      " ...\n",
      " [0. 0. 1.]\n",
      " [0. 0. 1.]\n",
      " [0. 1. 0.]]\n"
     ]
    }
   ],
   "source": [
    "y_pred = y_hat.round()\n",
    "print(y_pred)"
   ]
  },
  {
   "cell_type": "code",
   "execution_count": 30,
   "metadata": {},
   "outputs": [
    {
     "name": "stdout",
     "output_type": "stream",
     "text": [
      "[[1. 0. 0.]\n",
      " [1. 0. 0.]\n",
      " [1. 0. 0.]\n",
      " ...\n",
      " [0. 0. 1.]\n",
      " [0. 0. 1.]\n",
      " [0. 0. 1.]]\n"
     ]
    }
   ],
   "source": [
    "print(y_test)"
   ]
  },
  {
   "cell_type": "code",
   "execution_count": 31,
   "metadata": {},
   "outputs": [
    {
     "name": "stdout",
     "output_type": "stream",
     "text": [
      "0.8048780487804879\n"
     ]
    }
   ],
   "source": [
    "from sklearn.metrics import accuracy_score\n",
    "accuracy = accuracy_score(y_test,y_pred)\n",
    "print(accuracy)"
   ]
  },
  {
   "cell_type": "code",
   "execution_count": 32,
   "metadata": {},
   "outputs": [
    {
     "name": "stdout",
     "output_type": "stream",
     "text": [
      "                 precision    recall  f1-score   support\n",
      "\n",
      "          Covid       0.94      0.44      0.60        36\n",
      "Viral Pneumonia       0.85      0.92      0.88       273\n",
      "         Normal       0.82      0.61      0.70       101\n",
      "\n",
      "      micro avg       0.85      0.80      0.82       410\n",
      "      macro avg       0.87      0.66      0.73       410\n",
      "   weighted avg       0.85      0.80      0.81       410\n",
      "    samples avg       0.80      0.80      0.80       410\n",
      "\n",
      "Accuracy: 0.8048780487804879\n"
     ]
    },
    {
     "name": "stderr",
     "output_type": "stream",
     "text": [
      "d:\\Python\\Lib\\site-packages\\sklearn\\metrics\\_classification.py:1509: UndefinedMetricWarning: Precision is ill-defined and being set to 0.0 in samples with no predicted labels. Use `zero_division` parameter to control this behavior.\n",
      "  _warn_prf(average, modifier, f\"{metric.capitalize()} is\", len(result))\n"
     ]
    }
   ],
   "source": [
    "labels = ['Covid', 'Viral Pneumonia', 'Normal']\n",
    "report = classification_report(y_test, y_pred, target_names=labels)\n",
    "print(report)\n",
    "print(f\"Accuracy: {accuracy}\")"
   ]
  },
  {
   "cell_type": "code",
   "execution_count": 33,
   "metadata": {},
   "outputs": [
    {
     "name": "stdout",
     "output_type": "stream",
     "text": [
      "[[ 19  17   0]\n",
      " [  7 252  14]\n",
      " [ 11  28  62]]\n"
     ]
    },
    {
     "data": {
      "text/plain": [
       "([<matplotlib.axis.XTick at 0x20a29a40890>,\n",
       "  <matplotlib.axis.XTick at 0x20a29a43980>,\n",
       "  <matplotlib.axis.XTick at 0x20a6696f5f0>],\n",
       " [Text(0.5, 0, 'Covid'),\n",
       "  Text(1.5, 0, 'Viral Pneumonia'),\n",
       "  Text(2.5, 0, 'Normal')])"
      ]
     },
     "execution_count": 33,
     "metadata": {},
     "output_type": "execute_result"
    },
    {
     "data": {
      "image/png": "[encoded data removed]",
      "text/plain": [
       "<Figure size 640x480 with 2 Axes>"
      ]
     },
     "metadata": {},
     "output_type": "display_data"
    }
   ],
   "source": [
    "cm = confusion_matrix(np.asarray(y_test).argmax(axis=1), np.asarray(y_pred).argmax(axis=1))\n",
    "print(cm)\n",
    "sns.heatmap(cm, annot=True, fmt='d', cmap='Blues')\n",
    "\n",
    "tick_labels = ['Covid', 'Viral Pneumonia', 'Normal']\n",
    "plt.xticks(np.arange(len(tick_labels)) + 0.5, tick_labels)\n"
   ]
  },
  {
   "cell_type": "code",
   "execution_count": null,
   "metadata": {},
   "outputs": [],
   "source": []
  }
 ],
 "metadata": {
  "kernelspec": {
   "display_name": "Python 3",
   "language": "python",
   "name": "python3"
  },
  "language_info": {
   "codemirror_mode": {
    "name": "ipython",
    "version": 3
   },
   "file_extension": ".py",
   "mimetype": "text/x-python",
   "name": "python",
   "nbconvert_exporter": "python",
   "pygments_lexer": "ipython3",
   "version": "3.12.2"
  },
  "orig_nbformat": 4
 },
 "nbformat": 4,
 "nbformat_minor": 2
}
